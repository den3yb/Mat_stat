{
 "cells": [
  {
   "cell_type": "markdown",
   "metadata": {},
   "source": [
    "# ЛАБА 2\n"
   ]
  },
  {
   "cell_type": "markdown",
   "metadata": {},
   "source": [
    "## задание 1"
   ]
  },
  {
   "cell_type": "code",
   "execution_count": 3,
   "metadata": {},
   "outputs": [],
   "source": [
    "import numpy as np\n",
    "import pandas as pd\n",
    "import matplotlib.pyplot as plt\n",
    "import scipy as sci\n",
    "import scipy.stats as st\n",
    "import seaborn as sb"
   ]
  },
  {
   "cell_type": "code",
   "execution_count": 4,
   "metadata": {},
   "outputs": [],
   "source": [
    "n=13\n",
    "a=-3\n",
    "sigma=3\n",
    "gamma=0.9"
   ]
  },
  {
   "cell_type": "code",
   "execution_count": 5,
   "metadata": {},
   "outputs": [
    {
     "name": "stdout",
     "output_type": "stream",
     "text": [
      "[ 0.09967529 -2.24353502 -5.80510107 -3.42129262 -1.94212596 -6.43234003\n",
      " -6.27004603 -4.71330135  4.58451331 -4.78933867 -2.70191762 -3.96274989\n",
      " -4.30576837]\n"
     ]
    }
   ],
   "source": [
    "X = np.random.normal(a,sigma,size = n)\n",
    "\n",
    "print(X)"
   ]
  },
  {
   "cell_type": "markdown",
   "metadata": {},
   "source": [
    "## Дисперсия известна"
   ]
  },
  {
   "cell_type": "markdown",
   "metadata": {},
   "source": [
    "### Вручную"
   ]
  },
  {
   "cell_type": "code",
   "execution_count": 6,
   "metadata": {},
   "outputs": [
    {
     "name": "stdout",
     "output_type": "stream",
     "text": [
      "0.95\n",
      "доверительный интервал для параметра a\n"
     ]
    },
    {
     "data": {
      "text/plain": [
       "(-4.591933869458538, -1.8547319805632534)"
      ]
     },
     "execution_count": 6,
     "metadata": {},
     "output_type": "execute_result"
    }
   ],
   "source": [
    "P_=1/2+gamma/2\n",
    "print(P_)\n",
    "t_gamma=st.norm.ppf(P_, loc=0, scale=1)\n",
    "a_left_ =X.mean()-sigma*t_gamma/n**0.5\n",
    "a_right_=X.mean()+sigma*t_gamma/n**0.5\n",
    "print('доверительный интервал для параметра a')\n",
    "(a_left_,a_right_)"
   ]
  },
  {
   "cell_type": "markdown",
   "metadata": {},
   "source": [
    "### Методами Питона"
   ]
  },
  {
   "cell_type": "code",
   "execution_count": 7,
   "metadata": {},
   "outputs": [
    {
     "name": "stdout",
     "output_type": "stream",
     "text": [
      "(-4.591933869458538, -1.8547319805632534)\n"
     ]
    }
   ],
   "source": [
    "a_estimate=np.mean(X)\n",
    "interval_estimate_1=st.norm.interval(gamma, loc=a_estimate, scale=sigma/np.sqrt(n)) \n",
    "print(interval_estimate_1)"
   ]
  },
  {
   "cell_type": "markdown",
   "metadata": {},
   "source": [
    "## Дисперсия не известна"
   ]
  },
  {
   "cell_type": "markdown",
   "metadata": {},
   "source": [
    "### Вручную"
   ]
  },
  {
   "cell_type": "code",
   "execution_count": 8,
   "metadata": {},
   "outputs": [
    {
     "name": "stdout",
     "output_type": "stream",
     "text": [
      "-3.2233329250108955 2.993797777532998\n",
      "-4.703219942382606 -1.7434459076391844\n"
     ]
    }
   ],
   "source": [
    "t_gamma=st.t.ppf(P_, df=len(X)-1)\n",
    "a_estimate=np.mean(X)\n",
    "sigma_estimate=np.std(X, ddof=1)\n",
    "print(a_estimate, sigma_estimate)\n",
    "\n",
    "a_left_=a_estimate-sigma_estimate*t_gamma/np.sqrt(n)\n",
    "a_right_=a_estimate+sigma_estimate*t_gamma/np.sqrt(n)\n",
    "print(a_left_, a_right_)"
   ]
  },
  {
   "cell_type": "markdown",
   "metadata": {},
   "source": [
    "### Методами Питона"
   ]
  },
  {
   "cell_type": "code",
   "execution_count": 9,
   "metadata": {},
   "outputs": [
    {
     "name": "stdout",
     "output_type": "stream",
     "text": [
      "-4.703219942382607 -1.7434459076391844\n"
     ]
    }
   ],
   "source": [
    "a_left, a_right =st.t.interval(gamma, df=len(X)-1, loc=a_estimate, scale=st.sem(X,ddof=1)) \n",
    "print(a_left, a_right)"
   ]
  },
  {
   "cell_type": "markdown",
   "metadata": {},
   "source": [
    "## Для дисперсии"
   ]
  },
  {
   "cell_type": "code",
   "execution_count": null,
   "metadata": {},
   "outputs": [],
   "source": [
    "# alpha = 1 - gamma #0.1\n",
    "# diff = np.sum((X - a) ** 2) \n",
    " \n",
    "# chi2_lower = st.chi2.ppf(1 - alpha / 2, df = n)  #0.95\n",
    "# chi2_upper = st.chi2.ppf(alpha / 2, df = n)  #0.05\n",
    " \n",
    "# interval_left = diff / chi2_lower \n",
    "# interval_right = diff / chi2_upper \n",
    " \n",
    "# (interval_left, interval_right)"
   ]
  },
  {
   "cell_type": "code",
   "execution_count": 11,
   "metadata": {},
   "outputs": [
    {
     "data": {
      "text/plain": [
       "(4.838661707440499, 18.36469818911635)"
      ]
     },
     "execution_count": 11,
     "metadata": {},
     "output_type": "execute_result"
    }
   ],
   "source": [
    "diff = np.sum((X - a) ** 2) \n",
    " \n",
    "chi_left, chi_right = st.chi2.interval(gamma, df = n) \n",
    " \n",
    "interval_left = diff / chi_right \n",
    "interval_right = diff / chi_left \n",
    " \n",
    "(interval_left, interval_right)"
   ]
  },
  {
   "cell_type": "markdown",
   "metadata": {},
   "source": [
    "## ЗАДАНИЕ 2\n"
   ]
  },
  {
   "cell_type": "code",
   "execution_count": 12,
   "metadata": {},
   "outputs": [
    {
     "data": {
      "text/plain": [
       "<matplotlib.legend.Legend at 0x1622d161750>"
      ]
     },
     "execution_count": 12,
     "metadata": {},
     "output_type": "execute_result"
    },
    {
     "data": {
      "image/png": "[encoded data removed]",
      "text/plain": [
       "<Figure size 640x480 with 1 Axes>"
      ]
     },
     "metadata": {},
     "output_type": "display_data"
    }
   ],
   "source": [
    "sample = np.random.normal(a, sigma, n)\n",
    "a_estimate=np.mean(sample)\n",
    "diff = np.sum((sample - a_estimate) ** 2) \n",
    "V=500\n",
    "gamma_=[0.0]*V\n",
    "delta_=[0.0]*V\n",
    "gamma__0=0.7\n",
    "gamma__1=0.9999999999\n",
    "h=(gamma__1-gamma__0)/V\n",
    "\n",
    "for i in range(V):\n",
    "    gamma_[i]=gamma__0+i*h\n",
    "    interval_estimate_MX= st.norm.interval(gamma_[i], loc=a_estimate, scale=sigma/np.sqrt(n)) \n",
    "    delta_[i]=interval_estimate_MX[1]-interval_estimate_MX[0]\n",
    "plt.plot(gamma_,delta_, label=\"Мат. Ожидание\")\n",
    "\n",
    "for i in range(V):\n",
    "    gamma_[i]=gamma__0+i*h\n",
    "    a_left, a_right =st.t.interval(gamma_[i], df=len(sample)-1, loc=a_estimate, scale=st.sem(sample,ddof=1)) \n",
    "    delta_[i]=a_right-a_left\n",
    "plt.plot(gamma_,delta_, label=\"Мат. Ожидание с неизвестной дисперсией\")\n",
    "\n",
    "for i in range(V):\n",
    "    gamma_[i]=gamma__0+i*h\n",
    "    chi_left, chi_right = st.chi2.interval(gamma_[i], df = n) \n",
    "    interval_left = diff / chi_right \n",
    "    interval_right = diff / chi_left\n",
    "    delta_[i]=interval_right-interval_left\n",
    "plt.plot(gamma_,delta_, label=\"Дисперсия\")\n",
    "plt.legend()"
   ]
  },
  {
   "cell_type": "markdown",
   "metadata": {},
   "source": [
    "## ЗАДАНИЕ 3\n"
   ]
  },
  {
   "cell_type": "code",
   "execution_count": 13,
   "metadata": {},
   "outputs": [
    {
     "data": {
      "text/plain": [
       "[<matplotlib.lines.Line2D at 0x1622d3fffd0>]"
      ]
     },
     "execution_count": 13,
     "metadata": {},
     "output_type": "execute_result"
    },
    {
     "data": {
      "image/png": "[encoded data removed]",
      "text/plain": [
       "<Figure size 640x480 with 1 Axes>"
      ]
     },
     "metadata": {},
     "output_type": "display_data"
    }
   ],
   "source": [
    "sample = np.random.normal(a, sigma, n) \n",
    "a_estimate = np.mean(sample) \n",
    " \n",
    "V = 500 # кол-во значений объема выборки \n",
    "count = [0.0] * V # объем \n",
    "delta_ = [0.0] * V # длина  \n",
    "low = 5 \n",
    "great = 5000 \n",
    "h = (great - low) / V \n",
    "for i in range(V): \n",
    "    count[i] = low + i * h \n",
    "    interval_estimate_MX = st.norm.interval( confidence = gamma,  loc = a_estimate,  scale = sigma / np.sqrt(count[i]))  \n",
    "    delta_[i] = interval_estimate_MX[1] - interval_estimate_MX[0] \n",
    "plt.plot(count,delta_, label=\"Мат. Ожидание\")\n",
    "\n",
    "for i in range(V): \n",
    "    count[i] = low + i * h \n",
    "    a_left, a_right =st.t.interval(confidence = gamma, df=len(sample)-1, loc=a_estimate, scale=sigma / np.sqrt(count[i])) \n",
    "    delta_[i]=a_right-a_left\n",
    "plt.plot(count,delta_, label=\"Мат. Ожидание с неизвестной дисперсией\")\n",
    "\n"
   ]
  },
  {
   "cell_type": "code",
   "execution_count": 14,
   "metadata": {},
   "outputs": [
    {
     "data": {
      "text/plain": [
       "<matplotlib.legend.Legend at 0x1622d421d50>"
      ]
     },
     "execution_count": 14,
     "metadata": {},
     "output_type": "execute_result"
    },
    {
     "data": {
      "image/png": "[encoded data removed]",
      "text/plain": [
       "<Figure size 640x480 with 1 Axes>"
      ]
     },
     "metadata": {},
     "output_type": "display_data"
    }
   ],
   "source": [
    "V = 500 # кол-во значений объема выборки \n",
    "count = [0.0] * V # объем \n",
    "delta_ = [0.0] * V # длина  \n",
    "low = 5 \n",
    "great = 1000\n",
    "h = (great - low) / V \n",
    "\n",
    "diff = np.sum((sample - a_estimate) ** 2) \n",
    "for i in range(V): \n",
    "    count[i] = low + i * h \n",
    "    chi_left, chi_right = st.chi2.interval(gamma, df = count[i]) \n",
    "    interval_left = diff / chi_right \n",
    "    interval_right = diff / chi_left\n",
    "    delta_[i]=interval_right-interval_left\n",
    "plt.plot(count,delta_, label=\"Дисперсия\")\n",
    "plt.legend()"
   ]
  },
  {
   "cell_type": "markdown",
   "metadata": {},
   "source": [
    "## ЗАДАНИЕ 4"
   ]
  },
  {
   "cell_type": "code",
   "execution_count": 15,
   "metadata": {},
   "outputs": [
    {
     "data": {
      "text/plain": [
       "0.9013333333333508"
      ]
     },
     "execution_count": 15,
     "metadata": {},
     "output_type": "execute_result"
    }
   ],
   "source": [
    " \n",
    "M = 1500\n",
    " \n",
    "real_mu = 0 \n",
    " \n",
    "for i in range(M):\n",
    "    s = np.random.normal(loc=a, scale=sigma, size=n)\n",
    "    s_mean = np.mean(s) \n",
    "    s_std = np.std(s, ddof=1) \n",
    "    interval = st.t.interval( confidence = gamma, df = n-1, loc = s_mean, scale = s_std / np.sqrt(n) ) \n",
    "    if interval[0] <= a <= interval[1]: \n",
    "        real_mu += 1/M  \n",
    " \n",
    "(real_mu)"
   ]
  },
  {
   "cell_type": "markdown",
   "metadata": {},
   "source": [
    "## ЗАДАНИЕ 5\n"
   ]
  },
  {
   "cell_type": "code",
   "execution_count": 16,
   "metadata": {},
   "outputs": [],
   "source": [
    "s = np.random.normal( loc = a, scale = sigma, size = (M, n))"
   ]
  },
  {
   "cell_type": "code",
   "execution_count": 17,
   "metadata": {},
   "outputs": [],
   "source": [
    "def Z(array): \n",
    "    X_estimate = sum(array)/n \n",
    "    S_estimate = np.sqrt( np.sum((array - X_estimate) ** 2)/(n-1)) \n",
    "    Z_i = np.sqrt(n)*(X_estimate - a)/S_estimate \n",
    "    return Z_i"
   ]
  },
  {
   "cell_type": "markdown",
   "metadata": {},
   "source": [
    "## 1"
   ]
  },
  {
   "cell_type": "code",
   "execution_count": 18,
   "metadata": {},
   "outputs": [],
   "source": [
    "Z_array = list(map(Z, s))"
   ]
  },
  {
   "cell_type": "markdown",
   "metadata": {},
   "source": [
    "## 2"
   ]
  },
  {
   "cell_type": "code",
   "execution_count": 19,
   "metadata": {},
   "outputs": [
    {
     "data": {
      "text/plain": [
       "(8.314976629724669e-05, 1.223894223642798, 0.0)"
      ]
     },
     "execution_count": 19,
     "metadata": {},
     "output_type": "execute_result"
    }
   ],
   "source": [
    "Z_mean = np.mean(Z_array) \n",
    "Z_disp = np.var(Z_array) \n",
    "Z_std = np.std(Z_disp)\n",
    "\n",
    "(Z_mean, Z_disp, Z_std)"
   ]
  },
  {
   "cell_type": "markdown",
   "metadata": {},
   "source": [
    "# 3\n"
   ]
  },
  {
   "cell_type": "code",
   "execution_count": 20,
   "metadata": {},
   "outputs": [
    {
     "data": {
      "text/plain": [
       "Text(0.5, 1.0, 'Relative frequency')"
      ]
     },
     "execution_count": 20,
     "metadata": {},
     "output_type": "execute_result"
    },
    {
     "data": {
      "image/png": "[encoded data removed]",
      "text/plain": [
       "<Figure size 640x480 with 1 Axes>"
      ]
     },
     "metadata": {},
     "output_type": "display_data"
    }
   ],
   "source": [
    "count, bins, ignored  = plt.hist(Z_array, density=True) \n",
    " \n",
    "x = np.linspace(min(Z_array) ,max(Z_array), 1000) \n",
    "pdf = st.t.pdf(x, n-1) \n",
    " \n",
    "plt.plot(x, pdf, color = \"red\")  \n",
    " \n",
    "plt.title(\"Relative frequency\")"
   ]
  },
  {
   "cell_type": "code",
   "execution_count": 21,
   "metadata": {},
   "outputs": [
    {
     "name": "stdout",
     "output_type": "stream",
     "text": [
      "Axes(0.125,0.11;0.775x0.77)\n"
     ]
    },
    {
     "data": {
      "image/png": "[encoded data removed]",
      "text/plain": [
       "<Figure size 640x480 with 1 Axes>"
      ]
     },
     "metadata": {},
     "output_type": "display_data"
    }
   ],
   "source": [
    "W=sb.boxplot(Z_array) \n",
    "print(W)"
   ]
  },
  {
   "cell_type": "markdown",
   "metadata": {},
   "source": [
    "# 2 ЧАСТЬ"
   ]
  },
  {
   "cell_type": "markdown",
   "metadata": {},
   "source": [
    "## ЗАДАНИЕ 1\n"
   ]
  },
  {
   "cell_type": "code",
   "execution_count": 11,
   "metadata": {},
   "outputs": [
    {
     "name": "stdout",
     "output_type": "stream",
     "text": [
      "0.9066666666666844\n"
     ]
    }
   ],
   "source": [
    "n=13\n",
    "a=-3\n",
    "sigma=3\n",
    "gamma=0.9\n",
    "K=180\n",
    "M=1500\n",
    "\n",
    "def stat_disp():\n",
    "    count = 0\n",
    "    for i in range(M):\n",
    "\n",
    "        s = np.random.normal(loc=a, scale=sigma, size=n)\n",
    "        diff = np.sum((s - a) ** 2) \n",
    "\n",
    "        chi_left, chi_right = st.chi2.interval(gamma, df = n) \n",
    "\n",
    "        interval_left = diff / chi_right \n",
    "        interval_right = diff / chi_left \n",
    "\n",
    "        if interval_left <= sigma**2 <= interval_right: \n",
    "            count += 1/M  \n",
    "    return count\n",
    "        \n",
    "print(stat_disp())\n"
   ]
  },
  {
   "cell_type": "code",
   "execution_count": 35,
   "metadata": {},
   "outputs": [
    {
     "name": "stdout",
     "output_type": "stream",
     "text": [
      "0.8846666666666831\n",
      "0.9046666666666843\n",
      "0.8933333333333503\n",
      "0.8926666666666836\n",
      "0.8966666666666838\n",
      "0.9140000000000181\n",
      "0.8946666666666837\n",
      "0.9073333333333511\n",
      "0.8993333333333506\n",
      "0.905333333333351\n",
      "0.9106666666666846\n",
      "0.8993333333333506\n",
      "0.8893333333333501\n",
      "0.8833333333333497\n",
      "0.8900000000000168\n",
      "0.8953333333333504\n",
      "0.8993333333333506\n",
      "0.9073333333333511\n",
      "0.9033333333333509\n",
      "0.8933333333333503\n",
      "0.8933333333333503\n",
      "0.9180000000000184\n",
      "0.9013333333333508\n",
      "0.8886666666666834\n",
      "0.8906666666666835\n",
      "0.8973333333333505\n",
      "0.9040000000000176\n",
      "0.8906666666666835\n",
      "0.9046666666666843\n",
      "0.8973333333333505\n",
      "0.9040000000000176\n",
      "0.8906666666666835\n",
      "0.905333333333351\n",
      "0.9093333333333512\n",
      "0.912000000000018\n",
      "0.8980000000000172\n",
      "0.9106666666666846\n",
      "0.8966666666666838\n",
      "0.8786666666666828\n",
      "0.9073333333333511\n",
      "0.9066666666666844\n",
      "0.8913333333333502\n",
      "0.905333333333351\n",
      "0.8953333333333504\n",
      "0.9066666666666844\n",
      "0.9160000000000182\n",
      "0.9073333333333511\n",
      "0.8866666666666833\n",
      "0.900666666666684\n",
      "0.8986666666666839\n",
      "0.9073333333333511\n",
      "0.8960000000000171\n",
      "0.8920000000000169\n",
      "0.9066666666666844\n",
      "0.9140000000000181\n",
      "0.8960000000000171\n",
      "0.8953333333333504\n",
      "0.905333333333351\n",
      "0.8986666666666839\n",
      "0.9013333333333508\n",
      "0.9020000000000175\n",
      "0.9260000000000188\n",
      "0.894000000000017\n",
      "0.9146666666666848\n",
      "0.8953333333333504\n",
      "0.8973333333333505\n",
      "0.894000000000017\n",
      "0.9073333333333511\n",
      "0.9013333333333508\n",
      "0.900666666666684\n",
      "0.894000000000017\n",
      "0.8946666666666837\n",
      "0.8886666666666834\n",
      "0.9000000000000173\n",
      "0.8993333333333506\n",
      "0.8953333333333504\n",
      "0.8960000000000171\n",
      "0.8893333333333501\n",
      "0.8880000000000167\n",
      "0.9093333333333512\n",
      "0.9100000000000179\n",
      "0.9020000000000175\n",
      "0.8946666666666837\n",
      "0.8893333333333501\n",
      "0.9020000000000175\n",
      "0.8960000000000171\n",
      "0.9026666666666842\n",
      "0.8960000000000171\n",
      "0.8953333333333504\n",
      "0.900666666666684\n",
      "0.9113333333333513\n",
      "0.9060000000000177\n",
      "0.9060000000000177\n",
      "0.8880000000000167\n",
      "0.8806666666666829\n",
      "0.9066666666666844\n",
      "0.9153333333333515\n",
      "0.8973333333333505\n",
      "0.9040000000000176\n",
      "0.8973333333333505\n",
      "0.8966666666666838\n",
      "0.9080000000000178\n",
      "0.88733333333335\n",
      "0.8966666666666838\n",
      "0.8973333333333505\n",
      "0.905333333333351\n",
      "0.9073333333333511\n",
      "0.9026666666666842\n",
      "0.8906666666666835\n",
      "0.9086666666666845\n",
      "0.9020000000000175\n",
      "0.9026666666666842\n",
      "0.8920000000000169\n",
      "0.9033333333333509\n",
      "0.9033333333333509\n",
      "0.894000000000017\n",
      "0.8906666666666835\n",
      "0.9080000000000178\n",
      "0.9000000000000173\n",
      "0.8960000000000171\n",
      "0.9073333333333511\n",
      "0.9060000000000177\n",
      "0.8966666666666838\n",
      "0.8913333333333502\n",
      "0.8960000000000171\n",
      "0.9080000000000178\n",
      "0.9033333333333509\n",
      "0.8853333333333498\n",
      "0.9086666666666845\n",
      "0.9060000000000177\n",
      "0.894000000000017\n",
      "0.8993333333333506\n",
      "0.9106666666666846\n",
      "0.8913333333333502\n",
      "0.8880000000000167\n",
      "0.9026666666666842\n",
      "0.9066666666666844\n",
      "0.9033333333333509\n",
      "0.9066666666666844\n",
      "0.8913333333333502\n",
      "0.8953333333333504\n",
      "0.8960000000000171\n",
      "0.9066666666666844\n",
      "0.912000000000018\n",
      "0.9093333333333512\n",
      "0.8993333333333506\n",
      "0.8980000000000172\n",
      "0.8973333333333505\n",
      "0.9106666666666846\n",
      "0.9033333333333509\n",
      "0.9066666666666844\n",
      "0.9026666666666842\n",
      "0.9126666666666847\n",
      "0.8880000000000167\n",
      "0.8780000000000161\n",
      "0.9153333333333515\n",
      "0.8946666666666837\n",
      "0.8893333333333501\n",
      "0.900666666666684\n",
      "0.8906666666666835\n",
      "0.8886666666666834\n",
      "0.9133333333333514\n",
      "0.9013333333333508\n",
      "0.8800000000000162\n",
      "0.905333333333351\n",
      "0.8980000000000172\n",
      "0.9146666666666848\n",
      "0.894000000000017\n",
      "0.9026666666666842\n",
      "0.8993333333333506\n",
      "0.9000000000000173\n",
      "0.8906666666666835\n",
      "0.894000000000017\n",
      "0.8900000000000168\n",
      "0.9013333333333508\n",
      "0.8960000000000171\n",
      "0.9080000000000178\n",
      "0.9113333333333513\n",
      "0.8980000000000172\n",
      "0.9093333333333512\n"
     ]
    }
   ],
   "source": [
    "disp_list = []\n",
    "for j in range(K):\n",
    "    disp_list.append(stat_disp())\n",
    "    print(disp_list[j])"
   ]
  },
  {
   "cell_type": "code",
   "execution_count": 141,
   "metadata": {},
   "outputs": [
    {
     "data": {
      "text/plain": [
       "(0.8998703703703875, 6.931899862826571e-05, 0.008325803182172018)"
      ]
     },
     "execution_count": 141,
     "metadata": {},
     "output_type": "execute_result"
    }
   ],
   "source": [
    "gamma_mean = np.mean(disp_list) \n",
    "gamma_disp = np.var(disp_list)\n",
    "gamma_std = np.std(disp_list)\n",
    "\n",
    "(gamma_mean,  gamma_disp, gamma_std)"
   ]
  },
  {
   "cell_type": "code",
   "execution_count": 37,
   "metadata": {},
   "outputs": [
    {
     "name": "stdout",
     "output_type": "stream",
     "text": [
      "Axes(0.125,0.11;0.775x0.77)\n"
     ]
    },
    {
     "data": {
      "image/png": "[encoded data removed]",
      "text/plain": [
       "<Figure size 640x480 with 1 Axes>"
      ]
     },
     "metadata": {},
     "output_type": "display_data"
    }
   ],
   "source": [
    "W_box =sb.boxplot(disp_list) \n",
    "print(W_box)"
   ]
  },
  {
   "cell_type": "code",
   "execution_count": 12,
   "metadata": {},
   "outputs": [
    {
     "ename": "NameError",
     "evalue": "name 'disp_list' is not defined",
     "output_type": "error",
     "traceback": [
      "\u001b[1;31m---------------------------------------------------------------------------\u001b[0m",
      "\u001b[1;31mNameError\u001b[0m                                 Traceback (most recent call last)",
      "Cell \u001b[1;32mIn[12], line 1\u001b[0m\n\u001b[1;32m----> 1\u001b[0m count, bins, ignored  \u001b[38;5;241m=\u001b[39m plt\u001b[38;5;241m.\u001b[39mhist(\u001b[43mdisp_list\u001b[49m, density\u001b[38;5;241m=\u001b[39m\u001b[38;5;28;01mTrue\u001b[39;00m, bins\u001b[38;5;241m=\u001b[39m\u001b[38;5;124m\"\u001b[39m\u001b[38;5;124mstorge\u001b[39m\u001b[38;5;124m\"\u001b[39m) \n\u001b[0;32m      2\u001b[0m x \u001b[38;5;241m=\u001b[39m np\u001b[38;5;241m.\u001b[39mlinspace(\u001b[38;5;28mmin\u001b[39m(disp_list), \u001b[38;5;28mmax\u001b[39m(disp_list), \u001b[38;5;241m1000\u001b[39m) \n\u001b[0;32m      3\u001b[0m normal_pdf \u001b[38;5;241m=\u001b[39m st\u001b[38;5;241m.\u001b[39mnorm\u001b[38;5;241m.\u001b[39mpdf(x, gamma, gamma_std) \n",
      "\u001b[1;31mNameError\u001b[0m: name 'disp_list' is not defined"
     ]
    }
   ],
   "source": [
    "count, bins, ignored  = plt.hist(disp_list, density=True, bins=\"storge\") \n",
    "x = np.linspace(min(disp_list), max(disp_list), 1000) \n",
    "normal_pdf = st.norm.pdf(x, gamma, gamma_std) \n",
    "\n",
    "plt.plot(x,  normal_pdf, color = \"red\")"
   ]
  },
  {
   "cell_type": "markdown",
   "metadata": {},
   "source": [
    "## 3 ЗАДАНИЕ"
   ]
  },
  {
   "cell_type": "code",
   "execution_count": 17,
   "metadata": {},
   "outputs": [
    {
     "name": "stdout",
     "output_type": "stream",
     "text": [
      "1.0117597643277525 0.1080758643718054\n"
     ]
    }
   ],
   "source": [
    "n=150\n",
    "def W():\n",
    "    return sum(np.random.uniform(low=0, high=2, size=3))/3\n",
    "\n",
    "def S():\n",
    "    s: np.ndarray = []\n",
    "    for j in range(n):\n",
    "        s.append(W())\n",
    "    return s\n",
    "    \n",
    "s = S()  \n",
    "print(np.mean(s), np.var(s)) "
   ]
  },
  {
   "cell_type": "code",
   "execution_count": 18,
   "metadata": {},
   "outputs": [
    {
     "name": "stdout",
     "output_type": "stream",
     "text": [
      "1.0 0.1111111111111111\n"
     ]
    }
   ],
   "source": [
    "Mw = (0+2)/2\n",
    "Dw = ((2-0)**2)/36\n",
    "Dw = 1/9\n",
    "print(Mw,Dw)"
   ]
  },
  {
   "cell_type": "code",
   "execution_count": 19,
   "metadata": {},
   "outputs": [
    {
     "data": {
      "text/plain": [
       "0.9293333333333523"
      ]
     },
     "execution_count": 19,
     "metadata": {},
     "output_type": "execute_result"
    }
   ],
   "source": [
    "\n",
    "def stat_disp_w():\n",
    "    count = 0\n",
    "    for i in range(M):\n",
    "\n",
    "        s = S()\n",
    "        diff = 0\n",
    "        for j in s:\n",
    "            diff += np.sum((j - Mw) ** 2 ) \n",
    "\n",
    "        chi_left, chi_right = st.chi2.interval(gamma, df = n) \n",
    "\n",
    "        interval_left = diff / chi_right \n",
    "        interval_right = diff / chi_left \n",
    "\n",
    "        if interval_left <= Dw <= interval_right: \n",
    "            count += 1/M  \n",
    "    return count\n",
    "\n",
    "stat_disp_w()"
   ]
  },
  {
   "cell_type": "code",
   "execution_count": null,
   "metadata": {},
   "outputs": [
    {
     "name": "stdout",
     "output_type": "stream",
     "text": [
      "0.9333333333333333\n"
     ]
    }
   ],
   "source": [
    "# def samples():\n",
    "#     result = []\n",
    "#     for _ in range(M):\n",
    "#         result.append(S())\n",
    "#     return result\n",
    "        \n",
    "        \n",
    "\n",
    "\n",
    "# def var_gamma_star_W():\n",
    "#     W_samples = samples()\n",
    "\n",
    "#     var_count = 0\n",
    "\n",
    "#     for sample in W_samples:\n",
    "#         var_estimate = np.var(sample, ddof = 1)\n",
    "#         ci_lower, ci_upper = st.chi2.interval(gamma, n-1)\n",
    "\n",
    "#         interval_lower = (n - 1) * var_estimate / ci_upper\n",
    "#         interval_upper = (n - 1) * var_estimate / ci_lower\n",
    "#         if interval_lower < Dw < interval_upper:\n",
    "#             var_count += 1\n",
    "\n",
    "#     gamma_star = var_count/M\n",
    "\n",
    "#     return gamma_star\n",
    "\n",
    "# print(var_gamma_star_W())"
   ]
  },
  {
   "cell_type": "code",
   "execution_count": 140,
   "metadata": {},
   "outputs": [
    {
     "name": "stdout",
     "output_type": "stream",
     "text": [
      "0.9273333333333522\n",
      "0.9320000000000191\n",
      "0.9220000000000186\n",
      "0.9260000000000188\n",
      "0.934666666666686\n",
      "0.9213333333333519\n",
      "0.9353333333333527\n",
      "0.9340000000000193\n",
      "0.9260000000000188\n",
      "0.9273333333333522\n",
      "0.9320000000000191\n",
      "0.9313333333333524\n",
      "0.9326666666666859\n",
      "0.9160000000000182\n",
      "0.9260000000000188\n",
      "0.9460000000000199\n",
      "0.9393333333333529\n",
      "0.9286666666666856\n",
      "0.9240000000000187\n",
      "0.9306666666666857\n",
      "0.9306666666666857\n",
      "0.9440000000000198\n",
      "0.9253333333333521\n",
      "0.9406666666666863\n",
      "0.9313333333333524\n",
      "0.9253333333333521\n",
      "0.9286666666666856\n",
      "0.9213333333333519\n",
      "0.9373333333333528\n",
      "0.9313333333333524\n",
      "0.9360000000000194\n",
      "0.9340000000000193\n",
      "0.9280000000000189\n",
      "0.9140000000000181\n",
      "0.9400000000000196\n",
      "0.9293333333333523\n",
      "0.9253333333333521\n",
      "0.934666666666686\n",
      "0.9193333333333518\n",
      "0.941333333333353\n",
      "0.9326666666666859\n",
      "0.9220000000000186\n",
      "0.9246666666666854\n",
      "0.9160000000000182\n",
      "0.9313333333333524\n",
      "0.9240000000000187\n",
      "0.9333333333333526\n",
      "0.934666666666686\n",
      "0.9286666666666856\n",
      "0.9273333333333522\n",
      "0.9320000000000191\n",
      "0.9446666666666865\n",
      "0.934666666666686\n",
      "0.9333333333333526\n",
      "0.9206666666666852\n",
      "0.930000000000019\n",
      "0.9286666666666856\n",
      "0.9326666666666859\n",
      "0.9320000000000191\n",
      "0.9320000000000191\n",
      "0.9333333333333526\n",
      "0.9240000000000187\n",
      "0.9373333333333528\n",
      "0.9320000000000191\n",
      "0.9173333333333517\n",
      "0.923333333333352\n",
      "0.9280000000000189\n",
      "0.9306666666666857\n",
      "0.9400000000000196\n",
      "0.916666666666685\n",
      "0.934666666666686\n",
      "0.9246666666666854\n",
      "0.9306666666666857\n",
      "0.9286666666666856\n",
      "0.9280000000000189\n",
      "0.912000000000018\n",
      "0.930000000000019\n",
      "0.9293333333333523\n",
      "0.923333333333352\n",
      "0.9213333333333519\n",
      "0.9373333333333528\n",
      "0.9240000000000187\n",
      "0.9340000000000193\n",
      "0.9286666666666856\n",
      "0.9266666666666855\n",
      "0.9113333333333513\n",
      "0.9286666666666856\n",
      "0.9393333333333529\n",
      "0.9226666666666853\n",
      "0.9273333333333522\n",
      "0.9213333333333519\n",
      "0.9393333333333529\n",
      "0.9293333333333523\n",
      "0.9353333333333527\n",
      "0.9260000000000188\n",
      "0.9246666666666854\n",
      "0.9386666666666862\n",
      "0.9246666666666854\n",
      "0.9273333333333522\n",
      "0.923333333333352\n",
      "0.923333333333352\n",
      "0.9286666666666856\n",
      "0.9273333333333522\n",
      "0.9326666666666859\n",
      "0.9246666666666854\n",
      "0.9333333333333526\n",
      "0.923333333333352\n",
      "0.9273333333333522\n",
      "0.9306666666666857\n",
      "0.9186666666666851\n",
      "0.9273333333333522\n",
      "0.9373333333333528\n",
      "0.9380000000000195\n",
      "0.930000000000019\n",
      "0.9406666666666863\n",
      "0.930000000000019\n",
      "0.9200000000000185\n",
      "0.9353333333333527\n",
      "0.9280000000000189\n",
      "0.9313333333333524\n",
      "0.9326666666666859\n",
      "0.9246666666666854\n",
      "0.9333333333333526\n",
      "0.9280000000000189\n",
      "0.930000000000019\n",
      "0.9153333333333515\n",
      "0.9213333333333519\n",
      "0.9200000000000185\n",
      "0.9320000000000191\n",
      "0.923333333333352\n",
      "0.9246666666666854\n",
      "0.9206666666666852\n",
      "0.9326666666666859\n",
      "0.9306666666666857\n",
      "0.9266666666666855\n",
      "0.9226666666666853\n",
      "0.9340000000000193\n",
      "0.9453333333333532\n",
      "0.9240000000000187\n",
      "0.9380000000000195\n",
      "0.9293333333333523\n",
      "0.9360000000000194\n",
      "0.9340000000000193\n",
      "0.9260000000000188\n",
      "0.9320000000000191\n",
      "0.9180000000000184\n",
      "0.9380000000000195\n",
      "0.9306666666666857\n",
      "0.9333333333333526\n",
      "0.9280000000000189\n",
      "0.9360000000000194\n",
      "0.9200000000000185\n",
      "0.9286666666666856\n",
      "0.9220000000000186\n",
      "0.9173333333333517\n",
      "0.9333333333333526\n",
      "0.9313333333333524\n",
      "0.9193333333333518\n",
      "0.9286666666666856\n",
      "0.9326666666666859\n",
      "0.9286666666666856\n",
      "0.9253333333333521\n",
      "0.9260000000000188\n",
      "0.934666666666686\n",
      "0.934666666666686\n",
      "0.9393333333333529\n",
      "0.9373333333333528\n",
      "0.9386666666666862\n",
      "0.9226666666666853\n",
      "0.9280000000000189\n",
      "0.9333333333333526\n",
      "0.9333333333333526\n",
      "0.9380000000000195\n",
      "0.9393333333333529\n",
      "0.9340000000000193\n",
      "0.9380000000000195\n",
      "0.9353333333333527\n",
      "0.9180000000000184\n",
      "0.9253333333333521\n",
      "0.9313333333333524\n"
     ]
    }
   ],
   "source": [
    "disp_list_w = []\n",
    "for j in range(K):\n",
    "    disp_list_w.append(stat_disp_w())\n",
    "    print(disp_list_w[j])"
   ]
  },
  {
   "cell_type": "code",
   "execution_count": 79,
   "metadata": {},
   "outputs": [
    {
     "data": {
      "text/plain": [
       "(0.9303222222222414, 3.5266543209880524e-05, 0.00593856406969568)"
      ]
     },
     "execution_count": 79,
     "metadata": {},
     "output_type": "execute_result"
    }
   ],
   "source": [
    "gamma_mean = np.mean(disp_list_w) \n",
    "gamma_disp = np.var(disp_list_w)\n",
    "gamma_std = np.std(disp_list_w)\n",
    "(gamma_mean,  gamma_disp, gamma_std)"
   ]
  },
  {
   "cell_type": "code",
   "execution_count": 80,
   "metadata": {},
   "outputs": [
    {
     "name": "stdout",
     "output_type": "stream",
     "text": [
      "Axes(0.125,0.11;0.775x0.77)\n"
     ]
    },
    {
     "data": {
      "image/png": "[encoded data removed]",
      "text/plain": [
       "<Figure size 640x480 with 1 Axes>"
      ]
     },
     "metadata": {},
     "output_type": "display_data"
    }
   ],
   "source": [
    "W_box =sb.boxplot(disp_list_w) \n",
    "print(W_box)"
   ]
  },
  {
   "cell_type": "code",
   "execution_count": 81,
   "metadata": {},
   "outputs": [
    {
     "data": {
      "text/plain": [
       "[<matplotlib.lines.Line2D at 0x1622e893210>]"
      ]
     },
     "execution_count": 81,
     "metadata": {},
     "output_type": "execute_result"
    },
    {
     "data": {
      "image/png": "[encoded data removed]",
      "text/plain": [
       "<Figure size 640x480 with 1 Axes>"
      ]
     },
     "metadata": {},
     "output_type": "display_data"
    }
   ],
   "source": [
    "x = np.linspace(min(disp_list_w), max(disp_list_w), 10000) \n",
    "normal_pdf = st.norm.pdf(x, gamma_mean, gamma_std) \n",
    " \n",
    "count, bins, ignored = plt.hist(disp_list_w,density=True) \n",
    "plt.plot(x, normal_pdf, color = \"red\")"
   ]
  },
  {
   "cell_type": "code",
   "execution_count": 25,
   "metadata": {},
   "outputs": [
    {
     "data": {
      "text/plain": [
       "[<matplotlib.lines.Line2D at 0x24c126e7350>]"
      ]
     },
     "execution_count": 25,
     "metadata": {},
     "output_type": "execute_result"
    },
    {
     "data": {
      "image/png": "[encoded data removed]",
      "text/plain": [
       "<Figure size 640x480 with 1 Axes>"
      ]
     },
     "metadata": {},
     "output_type": "display_data"
    }
   ],
   "source": [
    "def W():\n",
    "    return sum(np.random.uniform(low=0, high=2, size=6))/6\n",
    "\n",
    "def S():\n",
    "    s: np.ndarray = []\n",
    "    for j in range(n):\n",
    "        s.append(W())\n",
    "    return s\n",
    "\n",
    "\n",
    "n=500\n",
    "def S():\n",
    "    s: np.ndarray = []\n",
    "    for j in range(n):\n",
    "        s.append(W())\n",
    "    return s\n",
    "\n",
    "list = S()\n",
    "count, bins, ignored = plt.hist(list,density=True) \n",
    "\n",
    "x = np.linspace(min(list), max(list), 10000) \n",
    "normal_pdf = st.norm.pdf(x, 1, np.sqrt(1/18) )\n",
    "plt.plot(x, normal_pdf, color = \"red\")"
   ]
  }
 ],
 "metadata": {
  "kernelspec": {
   "display_name": "base",
   "language": "python",
   "name": "python3"
  },
  "language_info": {
   "codemirror_mode": {
    "name": "ipython",
    "version": 3
   },
   "file_extension": ".py",
   "mimetype": "text/x-python",
   "name": "python",
   "nbconvert_exporter": "python",
   "pygments_lexer": "ipython3",
   "version": "3.11.7"
  }
 },
 "nbformat": 4,
 "nbformat_minor": 2
}
